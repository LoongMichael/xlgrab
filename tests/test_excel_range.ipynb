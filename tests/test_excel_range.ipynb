{
 "cells": [
  {
   "cell_type": "markdown",
   "metadata": {},
   "source": [
    "# Excel Range 功能测试\n",
    "\n",
    "本 notebook 用于测试 `excel_range` 函数的各种功能，包括：\n",
    "- 单个单元格解析\n",
    "- 区域范围解析\n",
    "- 超出边界的自动裁剪\n",
    "- 多区域合并\n",
    "- header 和 index_col 参数"
   ]
  },
  {
   "cell_type": "code",
   "execution_count": null,
   "metadata": {},
   "outputs": [],
   "source": [
    "import pandas as pd\n",
    "import numpy as np\n",
    "import sys\n",
    "import warnings\n",
    "\n",
    "# 导入 xlgrab\n",
    "import xlgrab\n",
    "\n",
    "# 显示所有警告\n",
    "warnings.simplefilter('always')\n",
    "\n",
    "print(f\"xlgrab 版本: {xlgrab.__version__ if hasattr(xlgrab, '__version__') else 'unknown'}\")\n",
    "print(f\"pandas 版本: {pd.__version__}\")"
   ]
  },
  {
   "cell_type": "markdown",
   "metadata": {},
   "source": [
    "## 1. 创建测试数据\n",
    "\n",
    "创建一个模拟 Excel 数据的 DataFrame"
   ]
  },
  {
   "cell_type": "code",
   "execution_count": null,
   "metadata": {},
   "outputs": [],
   "source": [
    "# 创建一个 10x6 的测试 DataFrame，模拟 Excel 数据\n",
    "df = pd.DataFrame({\n",
    "    'A': ['姓名', '张三', '李四', '王五', '赵六', '钱七', '孙八', '周九', '吴十', '郑十一'],\n",
    "    'B': ['年龄', 25, 30, 28, 35, 22, 27, 31, 29, 26],\n",
    "    'C': ['部门', '销售', '技术', '销售', '技术', '市场', '销售', '技术', '市场', '销售'],\n",
    "    'D': ['工资', 8000, 12000, 9000, 15000, 7000, 8500, 13000, 7500, 9500],\n",
    "    'E': ['城市', '北京', '上海', '北京', '上海', '广州', '深圳', '上海', '广州', '北京'],\n",
    "    'F': ['入职日期', '2020-01', '2019-05', '2021-03', '2018-08', '2022-01', '2020-11', '2019-02', '2021-09', '2020-06']\n",
    "})\n",
    "\n",
    "print(\"原始测试数据 (10行6列):\")\n",
    "print(df)\n",
    "print(f\"\\nDataFrame 形状: {df.shape}\")"
   ]
  },
  {
   "cell_type": "markdown",
   "metadata": {},
   "source": [
    "## 2. 测试单个单元格解析"
   ]
  },
  {
   "cell_type": "code",
   "execution_count": null,
   "metadata": {},
   "outputs": [],
   "source": [
    "print(\"测试 1: 获取单个单元格 'B2'\")\n",
    "result = df.excel_range('B2', header=False)\n",
    "print(result)\n",
    "print(f\"结果形状: {result.shape}\")"
   ]
  },
  {
   "cell_type": "code",
   "execution_count": null,
   "metadata": {},
   "outputs": [],
   "source": [
    "print(\"测试 2: 获取单个单元格 'D5'\")\n",
    "result = df.excel_range('D5', header=False)\n",
    "print(result)\n",
    "print(f\"结果形状: {result.shape}\")"
   ]
  },
  {
   "cell_type": "markdown",
   "metadata": {},
   "source": [
    "## 3. 测试正常区域范围"
   ]
  },
  {
   "cell_type": "code",
   "execution_count": null,
   "metadata": {},
   "outputs": [],
   "source": [
    "print(\"测试 3: 获取区域 'A1:C4' (不使用 header)\")\n",
    "result = df.excel_range('A1:C4', header=False)\n",
    "print(result)\n",
    "print(f\"结果形状: {result.shape}\")"
   ]
  },
  {
   "cell_type": "code",
   "execution_count": null,
   "metadata": {},
   "outputs": [],
   "source": [
    "print(\"测试 4: 获取区域 'A1:C4' (使用第一行作为 header)\")\n",
    "result = df.excel_range('A1:C4', header=True)\n",
    "print(result)\n",
    "print(f\"结果形状: {result.shape}\")"
   ]
  },
  {
   "cell_type": "code",
   "execution_count": null,
   "metadata": {},
   "outputs": [],
   "source": [
    "print(\"测试 5: 获取区域 'B2:E6' (包含数据部分)\")\n",
    "result = df.excel_range('B2:E6', header=False)\n",
    "print(result)\n",
    "print(f\"结果形状: {result.shape}\")"
   ]
  },
  {
   "cell_type": "markdown",
   "metadata": {},
   "source": [
    "## 4. 测试 header 和 index_col 参数"
   ]
  },
  {
   "cell_type": "code",
   "execution_count": null,
   "metadata": {},
   "outputs": [],
   "source": [
    "print(\"测试 6: 使用第一行作为列名，第一列作为索引\")\n",
    "result = df.excel_range('A1:D6', header=True, index_col=0)\n",
    "print(result)\n",
    "print(f\"结果形状: {result.shape}\")\n",
    "print(f\"索引名称: {result.index.name}\")\n",
    "print(f\"列名: {list(result.columns)}\")"
   ]
  },
  {
   "cell_type": "code",
   "execution_count": null,
   "metadata": {},
   "outputs": [],
   "source": [
    "print(\"测试 7: 使用列名指定索引列\")\n",
    "result = df.excel_range('A1:D6', header=True, index_col='姓名')\n",
    "print(result)\n",
    "print(f\"结果形状: {result.shape}\")"
   ]
  },
  {
   "cell_type": "markdown",
   "metadata": {},
   "source": [
    "## 5. 测试超出边界的自动裁剪\n",
    "\n",
    "这是新增的功能：当请求的区域超出 DataFrame 范围时，自动裁剪到有效边界"
   ]
  },
  {
   "cell_type": "code",
   "execution_count": null,
   "metadata": {},
   "outputs": [],
   "source": [
    "print(\"测试 8: 超出行范围 'B2:D20' (DataFrame 只有 10 行)\")\n",
    "print(\"预期：自动裁剪到第 10 行，并显示警告\")\n",
    "result = df.excel_range('B2:D20', header=False)\n",
    "print(result)\n",
    "print(f\"结果形状: {result.shape}\")\n",
    "print(f\"实际返回行数: {len(result)}\")"
   ]
  },
  {
   "cell_type": "code",
   "execution_count": null,
   "metadata": {},
   "outputs": [],
   "source": [
    "print(\"测试 9: 超出列范围 'A1:Z5' (DataFrame 只有 6 列 A-F)\")\n",
    "print(\"预期：自动裁剪到第 F 列，并显示警告\")\n",
    "result = df.excel_range('A1:Z5', header=False)\n",
    "print(result)\n",
    "print(f\"结果形状: {result.shape}\")\n",
    "print(f\"实际返回列数: {len(result.columns)}\")"
   ]
  },
  {
   "cell_type": "code",
   "execution_count": null,
   "metadata": {},
   "outputs": [],
   "source": [
    "print(\"测试 10: 同时超出行和列范围 'C3:Z100'\")\n",
    "print(\"预期：自动裁剪到 DataFrame 的实际边界\")\n",
    "result = df.excel_range('C3:Z100', header=False)\n",
    "print(result)\n",
    "print(f\"结果形状: {result.shape}\")"
   ]
  },
  {
   "cell_type": "markdown",
   "metadata": {},
   "source": [
    "## 6. 测试多区域合并"
   ]
  },
  {
   "cell_type": "code",
   "execution_count": null,
   "metadata": {},
   "outputs": [],
   "source": [
    "print(\"测试 11: 合并多个区域 'A2:B4' 和 'D2:E4'\")\n",
    "result = df.excel_range('A2:B4', 'D2:E4', header=False)\n",
    "print(result)\n",
    "print(f\"结果形状: {result.shape}\")"
   ]
  },
  {
   "cell_type": "code",
   "execution_count": null,
   "metadata": {},
   "outputs": [],
   "source": [
    "print(\"测试 12: 使用逗号分隔的多区域字符串 'A2:B4,D2:E4,F2:F4'\")\n",
    "result = df.excel_range('A2:B4,D2:E4,F2:F4', header=False)\n",
    "print(result)\n",
    "print(f\"结果形状: {result.shape}\")"
   ]
  },
  {
   "cell_type": "markdown",
   "metadata": {},
   "source": [
    "## 7. 测试边界情况"
   ]
  },
  {
   "cell_type": "code",
   "execution_count": null,
   "metadata": {},
   "outputs": [],
   "source": [
    "print(\"测试 13: 获取整个 DataFrame 'A1:F10'\")\n",
    "result = df.excel_range('A1:F10', header=False)\n",
    "print(result)\n",
    "print(f\"结果形状: {result.shape}\")\n",
    "print(f\"是否与原始 DataFrame 相同: {result.equals(df)}\")"
   ]
  },
  {
   "cell_type": "code",
   "execution_count": null,
   "metadata": {},
   "outputs": [],
   "source": [
    "print(\"测试 14: 获取最后一个单元格 'F10'\")\n",
    "result = df.excel_range('F10', header=False)\n",
    "print(result)\n",
    "print(f\"结果形状: {result.shape}\")"
   ]
  },
  {
   "cell_type": "code",
   "execution_count": null,
   "metadata": {},
   "outputs": [],
   "source": [
    "print(\"测试 15: 获取第一个单元格 'A1'\")\n",
    "result = df.excel_range('A1', header=False)\n",
    "print(result)\n",
    "print(f\"结果形状: {result.shape}\")"
   ]
  },
  {
   "cell_type": "markdown",
   "metadata": {},
   "source": [
    "## 8. 错误处理测试"
   ]
  },
  {
   "cell_type": "code",
   "execution_count": null,
   "metadata": {},
   "outputs": [],
   "source": [
    "print(\"测试 16: 起始位置超出范围（应该报错）\")\n",
    "try:\n",
    "    result = df.excel_range('Z50:Z60', header=False)\n",
    "    print(\"错误：应该抛出异常但没有！\")\n",
    "except ValueError as e:\n",
    "    print(f\"✓ 正确捕获异常: {e}\")"
   ]
  },
  {
   "cell_type": "code",
   "execution_count": null,
   "metadata": {},
   "outputs": [],
   "source": [
    "print(\"测试 17: 无效的区域格式（应该报错）\")\n",
    "try:\n",
    "    result = df.excel_range('ABC', header=False)\n",
    "    print(\"错误：应该抛出异常但没有！\")\n",
    "except (ValueError, Exception) as e:\n",
    "    print(f\"✓ 正确捕获异常: {e}\")"
   ]
  },
  {
   "cell_type": "markdown",
   "metadata": {},
   "source": [
    "## 9. 实际应用场景示例"
   ]
  },
  {
   "cell_type": "code",
   "execution_count": null,
   "metadata": {},
   "outputs": [],
   "source": [
    "print(\"场景 1: 从 Excel 表格中提取员工信息（带表头）\")\n",
    "employees = df.excel_range('A1:E6', header=True, index_col='姓名')\n",
    "print(employees)\n",
    "print(f\"\\n员工数量: {len(employees)}\")\n",
    "print(f\"平均年龄: {employees['年龄'].mean():.1f}\")\n",
    "print(f\"平均工资: {employees['工资'].mean():.0f}\")"
   ]
  },
  {
   "cell_type": "code",
   "execution_count": null,
   "metadata": {},
   "outputs": [],
   "source": [
    "print(\"场景 2: 提取特定部门的工资数据\")\n",
    "salary_data = df.excel_range('C2:D10', header=False)\n",
    "salary_data.columns = ['部门', '工资']\n",
    "print(salary_data)\n",
    "print(f\"\\n按部门统计平均工资:\")\n",
    "print(salary_data.groupby('部门')['工资'].mean().sort_values(ascending=False))"
   ]
  },
  {
   "cell_type": "code",
   "execution_count": null,
   "metadata": {},
   "outputs": [],
   "source": [
    "print(\"场景 3: 提取多个不连续的数据区域并合并\")\n",
    "# 提取姓名、工资和城市三列（不连续）\n",
    "selected_data = df.excel_range('A1:A6', 'D1:D6', 'E1:E6', header=True)\n",
    "print(selected_data)\n",
    "print(f\"\\n按城市统计平均工资:\")\n",
    "print(selected_data.groupby('城市')['工资'].mean().sort_values(ascending=False))"
   ]
  },
  {
   "cell_type": "markdown",
   "metadata": {},
   "source": [
    "## 10. 性能测试（可选）"
   ]
  },
  {
   "cell_type": "code",
   "execution_count": null,
   "metadata": {},
   "outputs": [],
   "source": [
    "import time\n",
    "\n",
    "# 创建一个更大的 DataFrame\n",
    "large_df = pd.DataFrame(\n",
    "    np.random.randn(1000, 26),\n",
    "    columns=[chr(65+i) for i in range(26)]  # A-Z\n",
    ")\n",
    "\n",
    "print(f\"大型 DataFrame 形状: {large_df.shape}\")\n",
    "\n",
    "# 测试性能\n",
    "start = time.time()\n",
    "result = large_df.excel_range('B10:Y500', header=False)\n",
    "elapsed = time.time() - start\n",
    "\n",
    "print(f\"\\n提取区域 'B10:Y500' 耗时: {elapsed*1000:.2f} ms\")\n",
    "print(f\"结果形状: {result.shape}\")"
   ]
  },
  {
   "cell_type": "markdown",
   "metadata": {},
   "source": [
    "## 总结\n",
    "\n",
    "### 测试通过的功能：\n",
    "1. ✓ 单个单元格解析\n",
    "2. ✓ 区域范围解析\n",
    "3. ✓ header 参数（使用第一行作为列名）\n",
    "4. ✓ index_col 参数（指定索引列）\n",
    "5. ✓ 超出边界自动裁剪（新功能）\n",
    "6. ✓ 多区域合并\n",
    "7. ✓ 错误处理\n",
    "\n",
    "### 新增功能亮点：\n",
    "- **单个单元格支持**：可以直接使用 `'B2'` 而不需要 `'B2:B2'`\n",
    "- **智能边界裁剪**：超出范围时自动裁剪到有效边界，而不是报错\n",
    "- **友好的警告信息**：清楚地告知用户发生了裁剪"
   ]
  }
 ],
 "metadata": {
  "kernelspec": {
   "display_name": "Python 3",
   "language": "python",
   "name": "python3"
  },
  "language_info": {
   "codemirror_mode": {
    "name": "ipython",
    "version": 3
   },
   "file_extension": ".py",
   "mimetype": "text/x-python",
   "name": "python",
   "nbconvert_exporter": "python",
   "pygments_lexer": "ipython3",
   "version": "3.8.0"
  }
 },
 "nbformat": 4,
 "nbformat_minor": 4
}